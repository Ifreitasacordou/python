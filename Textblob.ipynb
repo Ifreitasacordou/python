{
 "cells": [
  {
   "cell_type": "code",
   "execution_count": 1,
   "metadata": {},
   "outputs": [],
   "source": [
    "import numpy as np\n",
    "import pandas as pd\n",
    "from textblob import TextBlob"
   ]
  },
  {
   "cell_type": "code",
   "execution_count": 2,
   "metadata": {},
   "outputs": [
    {
     "name": "stdout",
     "output_type": "stream",
     "text": [
      "é tão triste para o meu amigo APL .............\n",
      "Eu senti falta do trailer de New Moon ...\n",
      "omg sua já 7:30: O\n",
      ".. Omgaga Eu estou sooo im gunna CRY. Eu estive neste dentista desde 11 .. Eu estava suposto 2 apenas obter uma coroa colocar (30mins) ...\n",
      "Eu acho que mi bf está me traindo !!! T_T\n",
      "ou eu apenas me preocupo demais?\n",
      "Juuuuuuuuuuuuuuuuussssst Chillin !!\n",
      "Sunny Again Work Amanhã: - | TV hoje à noite\n",
      "Entregou meu uniforme hoje. Já sinto sua falta\n",
      "hmmmm .... eu quero saber como ela meu número @ -)\n",
      "Eu devo pensar em positivo ..\n",
      "obrigado a todos os inimigos na minha cara o dia todo! 112-102\n",
      "este fim de semana tem sugado até agora\n",
      "jb não está mais mostrando na Austrália!\n",
      "ok, é isso que você ganha.\n",
      "& lt; -------- É assim que eu me sinto agora ...\n",
      "awhhe man .... estou completamente inútil agora. Engraçado, tudo que posso fazer é twitter. http://myloc.me/27HX\n",
      "Me sentindo estranhamente bem. Agora eu vou ouvir algum Semisonic para celebrar\n",
      "Enorme rolo de trovão agora ... tão assustador !!!!\n",
      "Acabei de cortar minha barba. Só está crescendo há mais de um ano. Eu vou começar de novo. @shaunamanu está feliz nesse meio tempo.\n",
      "Muito triste com o Irã.\n",
      "wompppp wompp\n",
      "Você é o único que pode ver isso porque ninguém mais está me seguindo, isso é para você porque você é muito legal\n",
      "& lt; --- Nível triste é 3. Eu estava escrevendo um tweet em um blog enorme no Myspace e meu comp desligou. Agora tudo está perdido * em posição fetal *\n",
      "... Dirigiu-se ao Hospitol: teve que sair do Golf Tourny em 3º lugar !!!!!!!!!!! Eu acho que eu Re-Ripped algo !!! Sim, isso !!\n",
      "BoRinG): o que há de errado com ele? Por favor, diga........   :-/\n",
      "não pode ser incomodado. Eu gostaria de poder passar o resto da minha vida apenas sentado aqui e indo para shows. a sério.\n",
      "Feeeling como merda agora. Eu realmente quero dormir, mas não tenho 3 horas de dança e uma tarefa de arte para terminar.\n",
      "Adeus exames OLÁ ÁLCOOL NOITE\n",
      "Eu não percebi que era tão profundo. Nossa dar uma menina um aviso pelo menos!\n",
      "Eu odeio quando qualquer atleta aparece para rasgar um ACL na televisão ao vivo.\n",
      "Eu sinto falta de vocês também Eu acho que estou vestindo jeans skinny um suéter bonito e saltos não tenho certeza o que você está fazendo hoje\n",
      "- Conheça sua carne http://bit.ly/15SSCI\n",
      "Meu cavalo está se movendo no sábado de manhã.\n",
      "Não Sáb ... Precisa trabalhar 6 dias por semana\n",
      "Realmente não gosto de fazer o meu quarto É tão chato doente de fazer o meu guarda-roupa Eu não posso ir até o meu andar em um Yay\n",
      "SOX! Floyd foi ótimo, mas os apaziguadores precisam de uma bronca!\n",
      "vezes por como um milhão\n",
      "fazendo upload de fotos no friendster\n",
      "Que tipo de spaz faz o download de um vírus? meu irmão é quem: \\ MSN agora está fodido para sempre: '(\n",
      "& amp; & Fightiin Wiit Os bebês ...\n",
      "(: !!!!!! - então eu escrevi algo na semana passada. e recebi uma ligação de alguém no escritório de Nova York ... http://tumblr.com/xcn21w6o7\n",
      "* o suficiente disse *\n",
      "... Eu preciso mesmo dizer isso? Eu faço? Bem, aqui vou eu mesmo: CHRIS CORNELL EM CHICAGO! ... ESTA NOITE!\n",
      "... aula de saúde (que piada!)\n",
      "@ginaaa & lt; 3 IR PARA O SHOW HOJE À NOITE\n",
      "@Spiral_galaxy @YMPtweet isso realmente me deixa triste quando eu olho para a realidade muçulmana agora\n",
      "- All Time Low será a minha motivação para o resto da semana.\n",
      "eo entretenimento acabou, alguém reclamou corretamente .. @rupturerapture experimental você diz? ele deveria experimentar uma melodia\n",
      "mais um ano de Lakers .. Isso não é mágico nem divertido ...\n",
      "dia mais mau eveer.\n",
      "banheiro é limpo ..... agora para tarefas mais agradáveis ​​......\n",
      "boom boom pow\n",
      "mas estou orgulhoso.\n",
      "Parabéns ao helio embora\n",
      "David deve ser hospitalizado por cinco dias no final de julho (amígdalas palatinas). Eu provavelmente nunca vou ver Katie em concerto.\n",
      "amigos estão me deixando por causa desse amor estúpido http://bit.ly/ZoxZC\n",
      "vá dar um abraço na mamãe agora. http://bit.ly/azFwv\n",
      "Indo ver Harry Sunday Happiness\n",
      "Mão quilting é então ...\n",
      "odeio ... leysh t9ar5 ... = (((((((..\n",
      "= - Eu sempre consigo o que quero\n",
      "Eu me inclino para trás\n",
      "Eu saio do trabalho sooooon! Eu sinto falta do cody booo. não o vi em todo o sempre!\n",
      "Eu odeio alergias. Devo cortar meu cabelo amanhã? Estou fazendo uma enquete pública ...\n",
      "- Eu amo tanto vocês que dói. http://tumblr.com/xkh1z19us\n",
      "Eu sinto falta do Earl\n",
      "Saudades de New Jersey\n",
      "Eu perdi a primeira hora do SYTYCD na noite passada, e não consigo encontrá-lo online!\n",
      "Eu preciso de um U2 corrigir AGORA!\n",
      "Eu nunca pensei que me tornaria segunda escolha ...\n",
      "Eu acho que posso ser muito amigável ... lol ... o bem ...\n",
      "Eu acho que Manuel (minha planta de manjericão) só tem dias para viver\n",
      "Eu quero estar em casa @ igreja ... eu me pergunto o que eles estão fazendo?\n",
      "eu quero fazer minha própria pizza\n",
      "Eu quero um disco rígido de 120GB, ou uma TV de 37 polegadas ou uma nova guitarra. alguém sentindo generoso? = p x\n",
      "Eu quero um abraço\n",
      "Eu quero que Miley faça uma turnê na Austrália\n",
      "Eu queria dormir esta manhã, mas uma criança malvada através de um palito de picolé na minha cabeça. Eu gostaria de poder voar como aqueles esquilos\n",
      "Eu estava muito lento para obter $ 1 Up tix\n",
      "Vou mandar o sol para a Irlanda do Norte, você vai nadar hoje @kezbat\n",
      "Eu gostaria de poder ir ao T4 On The Beach: '(Seria ótimo ver @Shontelle_Layne & amp; @DanMerriweather\n",
      "Eu ficaria muito mais feliz se as paredes do meu quarto fossem pintadas de branco,\n",
      "idk wat 2 que eu posso confiar em mim desculpe 4 todos da dor que eu causei neblina ima tomar dis tempo fora 2 endireitar-me eu luv yall\n",
      "Eu estou achando o declive da interceptação e batendo minha cabeça contra a parede.\n",
      "Eu estou indo para cama agora ...\n",
      "estou doente 'tosse tosse'\n",
      "no táxi para o aeroporto! indo para casa .... & lt; christy & gt;\n",
      "No caso de eu sentir emo no acampamento (sentindo um pouquinho disso) ... estou trazendo o Relatório Mundial da Human Rights Watch 2009 ... espere que funcione\n",
      "Jin tem um twitter.\n",
      "o jonas day está quase no fim ...\n",
      "Jus Got Hom Fr. TDa Funeral ... Estou tão triste! Eu chorei tanto tempo! Muito amor vovô! & Lt; 3 Eu nunca consegui dizer meu último & quot; Adeus & quot; para ele.\n",
      "Só vou sorrir ... Porque é o que é ... e eu não tenho certeza do que mais eles poderiam querer ..\n",
      "Cheguei em casa, e pude ver minha amiga Zahra, que não vejo desde que nos formamos !!! Isso deixa-me muito feliz.\n",
      "- A noite mais longa de sempre .. ugh! http://tumblr.com/xwp1yxhi6\n",
      "mi momacita não me deixa ir ao jogo de bball do meu bf !!! grrr !!!\n",
      "Mamãe diz que eu tenho que pegar um novo telefone IMEDIATAMENTE .... para a T-Mobile. ela pagando ....\n",
      "Meu carro novo foi roubado ... pela minha mãe que queria ir posar na igreja.\n",
      "não sair com as meninas 2day. 2moro, espero que sim ......\n",
      "Não há horários de filmes para domingo! Os ratos terão que planejar amanhã. Eu acho que isso significa que eu tenho que trabalhar nessas duas apresentações que estou fazendo!\n",
      "no pavel esta noite & lt; Tigersfan & gt;\n",
      "não uma noite fria.\n",
      "oh obrigado!\n",
      "satisfeito\n",
      "provavelmente guna sair logo desde que ninguém está falando não mais\n",
      "realmente queria que Safina tirasse uma win & amp; perder assim ...\n",
      "RIP, David Eddings.\n",
      "Rose e ood estarão de volta no Natal Quem especial! YAY! Porra, é meio ano de distância.\n",
      "- sannesias: Aww não é vizinho! Nós precisamos assistir as Meninas Malvadas:] http://tumblr.com/xv31s2pi8\n",
      "Então, qual é o status no próximo fim de semana\n",
      "desculpe @ gigi4462 O ex marido teve uma overdose de sua dose diária de haterade\n",
      "Obrigado pela sua definição de throwbie! Os editores revisaram sua inscrição e decidiram não publicá-la.\n",
      "Obrigado, preciso de toda a ajuda que conseguir.\n",
      "- Isso explica muito.\n",
      "Haverá uma sequência de Heathers. Winona4ever! É melhor que eles não estraguem tudo.\n",
      "disse para não beber w / meu Rx tão só deu todo o b.b. porteiro & amp; obs. stout que eu trouxe para casa de OR para os meus vizinhos. v, v, triste.\n",
      "trae é tão doce! Ele acabou de me comprar um novo traje de baithing !! Teceu ele\n",
      "Verdade, altamente subjetivo de mim lá. Tombre era na verdade o meu personagem favorito no livro. Você me pegou - http://is.gd/13be0 - Rishabh\n",
      "u guys knw whyy\n",
      "muito muito\n",
      "waahhh agora estou ficando triste .... perder hub: - '(& quot; & quot; & quot; \"& quot;\"\n",
      "- nós estávamos nos levantando na chuva torrencial .. Nós estávamos sentando em cima do mundo .. - verão suga -\n"
     ]
    },
    {
     "name": "stdout",
     "output_type": "stream",
     "text": [
      "Fui pegar o cachorro de veterinários, eles costuraram a orelha dela, nos cobraram, mas ela ainda sangra como uma cachoeira toda vez que ela se move. D: PORQUE!\n",
      "onde está minha foto eu me sinto nua\n",
      "Por que não há trens indo para Manchester no domingo? !! Agora não posso ir ao show do @jonasbrothers.\n",
      "- Por que as pessoas devem ser tão exigentes? Quero dizer 6 horas de trabalho e sem dados!? o que está acontecendo com isso! http://tumblr.com/xsg1m3ufn\n",
      "Por que o Twitter logo se tornará obsoleto? http://www.imediaconnection.com/content/23465.asp\n",
      "bem acordado NÃO !!!\n",
      "sim eu também. Tem sido um mau tempo aqui para a última semana, então isso cheira mal. Kristis desce e moe disse que ele pode nos levar para ...\n",
      "- Você: oi Estranho: OLÁ EU SOU FRANK LAMPARD COMO ESTÁ VOCÊ Você: bem Você: e se é Estranho: eu sou gay Seu ... http://tumblr.com/xaj24dkly\n",
      "você sempre será meu primeiro e único ... [12 * 23 * 2007]\n",
      "# 3turnoffwords esta merda é uma merda\n",
      "O painel #asylm J2 acabou. Acho que está de volta à vida normal.\n",
      "# poemsunder140 .... iniciado por @ shannonelyse1\n",
      "#squarespace ilumine meu dia ruim! eu nunca ganho nada ...\n",
      "#Susan Boyle não ganhou! Bem, a diversidade foi muito boa! CONGRATZ !!\n",
      "# twenty20\n",
      "& lt; --- Isso é tudo, e acredite em mim .. é o suficiente!\n",
      "& lt; 3 timessss goooood\n",
      "& lt; 3 GrAdUaTE 09 & lt; 3\n",
      "& quot; Os vândalos pintam suásticas na casa do autor da história gay, lésbica da igreja: Nápoles Daily News & quot; (http://bit.ly/11zyzl)\n",
      "& quot; Ocorreu um erro desconhecido (-4) & quot; uh oh. iPhone OS 3 falhar até agora\n",
      "\"especialistas (homers) prevêem que o Eagles vai para 12-4 e o Giants vai para o 9-7 / BS!\" http://www.dailysportspages.com/forums/showthread.php?t=49343\n",
      "& quot; Eu sei que você está com fome, então vamos lá fora na varanda para que você possa comer & quot; ....\n",
      "\"Eu quero tanto você está me deixando louco\"\n",
      "& quot; Os 10 homens que um empreendedor de Internet feminino do Reino Unido deve saber quando começar e desenvolver um negócio: The Next Women & quot; (http://tinyurl.com ...\n",
      "\"A verdade está escondida em seus olhos\" @patita @MissMarian Paramore - Decode @ Daninho502? http://blip.fm/~5ytke\n",
      "\"Tente ligar minha TV para tirar você da minha cabeça. Eu tenho esse sentimento por dentro que simplesmente não admito ... & quot; (isso é literalmente como me sinto)\n"
     ]
    },
    {
     "ename": "HTTPError",
     "evalue": "HTTP Error 503: Service Unavailable",
     "output_type": "error",
     "traceback": [
      "\u001b[1;31m---------------------------------------------------------------------------\u001b[0m",
      "\u001b[1;31mHTTPError\u001b[0m                                 Traceback (most recent call last)",
      "\u001b[1;32m<ipython-input-2-e50d901d2d6f>\u001b[0m in \u001b[0;36m<module>\u001b[1;34m()\u001b[0m\n\u001b[0;32m      5\u001b[0m \u001b[1;32mfor\u001b[0m \u001b[0mi\u001b[0m \u001b[1;32min\u001b[0m \u001b[0mdataset\u001b[0m\u001b[1;33m[\u001b[0m\u001b[1;34m'SentimentText'\u001b[0m\u001b[1;33m]\u001b[0m\u001b[1;33m:\u001b[0m\u001b[1;33m\u001b[0m\u001b[0m\n\u001b[0;32m      6\u001b[0m     \u001b[0mblob\u001b[0m \u001b[1;33m=\u001b[0m \u001b[0mTextBlob\u001b[0m\u001b[1;33m(\u001b[0m\u001b[0mi\u001b[0m\u001b[1;33m)\u001b[0m\u001b[1;33m\u001b[0m\u001b[0m\n\u001b[1;32m----> 7\u001b[1;33m     \u001b[0mtraduzido\u001b[0m\u001b[1;33m.\u001b[0m\u001b[0mappend\u001b[0m\u001b[1;33m(\u001b[0m\u001b[0mblob\u001b[0m\u001b[1;33m.\u001b[0m\u001b[0mtranslate\u001b[0m\u001b[1;33m(\u001b[0m\u001b[0mto\u001b[0m \u001b[1;33m=\u001b[0m \u001b[1;34m'pt-br'\u001b[0m\u001b[1;33m)\u001b[0m\u001b[1;33m)\u001b[0m\u001b[1;33m\u001b[0m\u001b[0m\n\u001b[0m\u001b[0;32m      8\u001b[0m     \u001b[0mprint\u001b[0m\u001b[1;33m(\u001b[0m\u001b[0mblob\u001b[0m\u001b[1;33m.\u001b[0m\u001b[0mtranslate\u001b[0m\u001b[1;33m(\u001b[0m\u001b[0mto\u001b[0m \u001b[1;33m=\u001b[0m \u001b[1;34m'pt-br'\u001b[0m\u001b[1;33m)\u001b[0m\u001b[1;33m)\u001b[0m\u001b[1;33m\u001b[0m\u001b[0m\n",
      "\u001b[1;32mc:\\users\\igor\\appdata\\local\\programs\\python\\python36-32\\lib\\site-packages\\textblob\\blob.py\u001b[0m in \u001b[0;36mtranslate\u001b[1;34m(self, from_lang, to)\u001b[0m\n\u001b[0;32m    539\u001b[0m         \"\"\"\n\u001b[0;32m    540\u001b[0m         return self.__class__(self.translator.translate(self.raw,\n\u001b[1;32m--> 541\u001b[1;33m                               from_lang=from_lang, to_lang=to))\n\u001b[0m\u001b[0;32m    542\u001b[0m \u001b[1;33m\u001b[0m\u001b[0m\n\u001b[0;32m    543\u001b[0m     \u001b[1;32mdef\u001b[0m \u001b[0mdetect_language\u001b[0m\u001b[1;33m(\u001b[0m\u001b[0mself\u001b[0m\u001b[1;33m)\u001b[0m\u001b[1;33m:\u001b[0m\u001b[1;33m\u001b[0m\u001b[0m\n",
      "\u001b[1;32mc:\\users\\igor\\appdata\\local\\programs\\python\\python36-32\\lib\\site-packages\\textblob\\translate.py\u001b[0m in \u001b[0;36mtranslate\u001b[1;34m(self, source, from_lang, to_lang, host, type_)\u001b[0m\n\u001b[0;32m     52\u001b[0m             \u001b[0mtk\u001b[0m\u001b[1;33m=\u001b[0m\u001b[0m_calculate_tk\u001b[0m\u001b[1;33m(\u001b[0m\u001b[0msource\u001b[0m\u001b[1;33m)\u001b[0m\u001b[1;33m,\u001b[0m\u001b[1;33m\u001b[0m\u001b[0m\n\u001b[0;32m     53\u001b[0m         )\n\u001b[1;32m---> 54\u001b[1;33m         \u001b[0mresponse\u001b[0m \u001b[1;33m=\u001b[0m \u001b[0mself\u001b[0m\u001b[1;33m.\u001b[0m\u001b[0m_request\u001b[0m\u001b[1;33m(\u001b[0m\u001b[0murl\u001b[0m\u001b[1;33m,\u001b[0m \u001b[0mhost\u001b[0m\u001b[1;33m=\u001b[0m\u001b[0mhost\u001b[0m\u001b[1;33m,\u001b[0m \u001b[0mtype_\u001b[0m\u001b[1;33m=\u001b[0m\u001b[0mtype_\u001b[0m\u001b[1;33m,\u001b[0m \u001b[0mdata\u001b[0m\u001b[1;33m=\u001b[0m\u001b[0mdata\u001b[0m\u001b[1;33m)\u001b[0m\u001b[1;33m\u001b[0m\u001b[0m\n\u001b[0m\u001b[0;32m     55\u001b[0m         \u001b[0mresult\u001b[0m \u001b[1;33m=\u001b[0m \u001b[0mjson\u001b[0m\u001b[1;33m.\u001b[0m\u001b[0mloads\u001b[0m\u001b[1;33m(\u001b[0m\u001b[0mresponse\u001b[0m\u001b[1;33m)\u001b[0m\u001b[1;33m\u001b[0m\u001b[0m\n\u001b[0;32m     56\u001b[0m         \u001b[1;32mif\u001b[0m \u001b[0misinstance\u001b[0m\u001b[1;33m(\u001b[0m\u001b[0mresult\u001b[0m\u001b[1;33m,\u001b[0m \u001b[0mlist\u001b[0m\u001b[1;33m)\u001b[0m\u001b[1;33m:\u001b[0m\u001b[1;33m\u001b[0m\u001b[0m\n",
      "\u001b[1;32mc:\\users\\igor\\appdata\\local\\programs\\python\\python36-32\\lib\\site-packages\\textblob\\translate.py\u001b[0m in \u001b[0;36m_request\u001b[1;34m(self, url, host, type_, data)\u001b[0m\n\u001b[0;32m     90\u001b[0m         \u001b[1;32mif\u001b[0m \u001b[0mhost\u001b[0m \u001b[1;32mor\u001b[0m \u001b[0mtype_\u001b[0m\u001b[1;33m:\u001b[0m\u001b[1;33m\u001b[0m\u001b[0m\n\u001b[0;32m     91\u001b[0m             \u001b[0mreq\u001b[0m\u001b[1;33m.\u001b[0m\u001b[0mset_proxy\u001b[0m\u001b[1;33m(\u001b[0m\u001b[0mhost\u001b[0m\u001b[1;33m=\u001b[0m\u001b[0mhost\u001b[0m\u001b[1;33m,\u001b[0m \u001b[0mtype\u001b[0m\u001b[1;33m=\u001b[0m\u001b[0mtype_\u001b[0m\u001b[1;33m)\u001b[0m\u001b[1;33m\u001b[0m\u001b[0m\n\u001b[1;32m---> 92\u001b[1;33m         \u001b[0mresp\u001b[0m \u001b[1;33m=\u001b[0m \u001b[0mrequest\u001b[0m\u001b[1;33m.\u001b[0m\u001b[0murlopen\u001b[0m\u001b[1;33m(\u001b[0m\u001b[0mreq\u001b[0m\u001b[1;33m)\u001b[0m\u001b[1;33m\u001b[0m\u001b[0m\n\u001b[0m\u001b[0;32m     93\u001b[0m         \u001b[0mcontent\u001b[0m \u001b[1;33m=\u001b[0m \u001b[0mresp\u001b[0m\u001b[1;33m.\u001b[0m\u001b[0mread\u001b[0m\u001b[1;33m(\u001b[0m\u001b[1;33m)\u001b[0m\u001b[1;33m\u001b[0m\u001b[0m\n\u001b[0;32m     94\u001b[0m         \u001b[1;32mreturn\u001b[0m \u001b[0mcontent\u001b[0m\u001b[1;33m.\u001b[0m\u001b[0mdecode\u001b[0m\u001b[1;33m(\u001b[0m\u001b[1;34m'utf-8'\u001b[0m\u001b[1;33m)\u001b[0m\u001b[1;33m\u001b[0m\u001b[0m\n",
      "\u001b[1;32mc:\\users\\igor\\appdata\\local\\programs\\python\\python36-32\\lib\\urllib\\request.py\u001b[0m in \u001b[0;36murlopen\u001b[1;34m(url, data, timeout, cafile, capath, cadefault, context)\u001b[0m\n\u001b[0;32m    221\u001b[0m     \u001b[1;32melse\u001b[0m\u001b[1;33m:\u001b[0m\u001b[1;33m\u001b[0m\u001b[0m\n\u001b[0;32m    222\u001b[0m         \u001b[0mopener\u001b[0m \u001b[1;33m=\u001b[0m \u001b[0m_opener\u001b[0m\u001b[1;33m\u001b[0m\u001b[0m\n\u001b[1;32m--> 223\u001b[1;33m     \u001b[1;32mreturn\u001b[0m \u001b[0mopener\u001b[0m\u001b[1;33m.\u001b[0m\u001b[0mopen\u001b[0m\u001b[1;33m(\u001b[0m\u001b[0murl\u001b[0m\u001b[1;33m,\u001b[0m \u001b[0mdata\u001b[0m\u001b[1;33m,\u001b[0m \u001b[0mtimeout\u001b[0m\u001b[1;33m)\u001b[0m\u001b[1;33m\u001b[0m\u001b[0m\n\u001b[0m\u001b[0;32m    224\u001b[0m \u001b[1;33m\u001b[0m\u001b[0m\n\u001b[0;32m    225\u001b[0m \u001b[1;32mdef\u001b[0m \u001b[0minstall_opener\u001b[0m\u001b[1;33m(\u001b[0m\u001b[0mopener\u001b[0m\u001b[1;33m)\u001b[0m\u001b[1;33m:\u001b[0m\u001b[1;33m\u001b[0m\u001b[0m\n",
      "\u001b[1;32mc:\\users\\igor\\appdata\\local\\programs\\python\\python36-32\\lib\\urllib\\request.py\u001b[0m in \u001b[0;36mopen\u001b[1;34m(self, fullurl, data, timeout)\u001b[0m\n\u001b[0;32m    530\u001b[0m         \u001b[1;32mfor\u001b[0m \u001b[0mprocessor\u001b[0m \u001b[1;32min\u001b[0m \u001b[0mself\u001b[0m\u001b[1;33m.\u001b[0m\u001b[0mprocess_response\u001b[0m\u001b[1;33m.\u001b[0m\u001b[0mget\u001b[0m\u001b[1;33m(\u001b[0m\u001b[0mprotocol\u001b[0m\u001b[1;33m,\u001b[0m \u001b[1;33m[\u001b[0m\u001b[1;33m]\u001b[0m\u001b[1;33m)\u001b[0m\u001b[1;33m:\u001b[0m\u001b[1;33m\u001b[0m\u001b[0m\n\u001b[0;32m    531\u001b[0m             \u001b[0mmeth\u001b[0m \u001b[1;33m=\u001b[0m \u001b[0mgetattr\u001b[0m\u001b[1;33m(\u001b[0m\u001b[0mprocessor\u001b[0m\u001b[1;33m,\u001b[0m \u001b[0mmeth_name\u001b[0m\u001b[1;33m)\u001b[0m\u001b[1;33m\u001b[0m\u001b[0m\n\u001b[1;32m--> 532\u001b[1;33m             \u001b[0mresponse\u001b[0m \u001b[1;33m=\u001b[0m \u001b[0mmeth\u001b[0m\u001b[1;33m(\u001b[0m\u001b[0mreq\u001b[0m\u001b[1;33m,\u001b[0m \u001b[0mresponse\u001b[0m\u001b[1;33m)\u001b[0m\u001b[1;33m\u001b[0m\u001b[0m\n\u001b[0m\u001b[0;32m    533\u001b[0m \u001b[1;33m\u001b[0m\u001b[0m\n\u001b[0;32m    534\u001b[0m         \u001b[1;32mreturn\u001b[0m \u001b[0mresponse\u001b[0m\u001b[1;33m\u001b[0m\u001b[0m\n",
      "\u001b[1;32mc:\\users\\igor\\appdata\\local\\programs\\python\\python36-32\\lib\\urllib\\request.py\u001b[0m in \u001b[0;36mhttp_response\u001b[1;34m(self, request, response)\u001b[0m\n\u001b[0;32m    640\u001b[0m         \u001b[1;32mif\u001b[0m \u001b[1;32mnot\u001b[0m \u001b[1;33m(\u001b[0m\u001b[1;36m200\u001b[0m \u001b[1;33m<=\u001b[0m \u001b[0mcode\u001b[0m \u001b[1;33m<\u001b[0m \u001b[1;36m300\u001b[0m\u001b[1;33m)\u001b[0m\u001b[1;33m:\u001b[0m\u001b[1;33m\u001b[0m\u001b[0m\n\u001b[0;32m    641\u001b[0m             response = self.parent.error(\n\u001b[1;32m--> 642\u001b[1;33m                 'http', request, response, code, msg, hdrs)\n\u001b[0m\u001b[0;32m    643\u001b[0m \u001b[1;33m\u001b[0m\u001b[0m\n\u001b[0;32m    644\u001b[0m         \u001b[1;32mreturn\u001b[0m \u001b[0mresponse\u001b[0m\u001b[1;33m\u001b[0m\u001b[0m\n",
      "\u001b[1;32mc:\\users\\igor\\appdata\\local\\programs\\python\\python36-32\\lib\\urllib\\request.py\u001b[0m in \u001b[0;36merror\u001b[1;34m(self, proto, *args)\u001b[0m\n\u001b[0;32m    562\u001b[0m             \u001b[0mhttp_err\u001b[0m \u001b[1;33m=\u001b[0m \u001b[1;36m0\u001b[0m\u001b[1;33m\u001b[0m\u001b[0m\n\u001b[0;32m    563\u001b[0m         \u001b[0margs\u001b[0m \u001b[1;33m=\u001b[0m \u001b[1;33m(\u001b[0m\u001b[0mdict\u001b[0m\u001b[1;33m,\u001b[0m \u001b[0mproto\u001b[0m\u001b[1;33m,\u001b[0m \u001b[0mmeth_name\u001b[0m\u001b[1;33m)\u001b[0m \u001b[1;33m+\u001b[0m \u001b[0margs\u001b[0m\u001b[1;33m\u001b[0m\u001b[0m\n\u001b[1;32m--> 564\u001b[1;33m         \u001b[0mresult\u001b[0m \u001b[1;33m=\u001b[0m \u001b[0mself\u001b[0m\u001b[1;33m.\u001b[0m\u001b[0m_call_chain\u001b[0m\u001b[1;33m(\u001b[0m\u001b[1;33m*\u001b[0m\u001b[0margs\u001b[0m\u001b[1;33m)\u001b[0m\u001b[1;33m\u001b[0m\u001b[0m\n\u001b[0m\u001b[0;32m    565\u001b[0m         \u001b[1;32mif\u001b[0m \u001b[0mresult\u001b[0m\u001b[1;33m:\u001b[0m\u001b[1;33m\u001b[0m\u001b[0m\n\u001b[0;32m    566\u001b[0m             \u001b[1;32mreturn\u001b[0m \u001b[0mresult\u001b[0m\u001b[1;33m\u001b[0m\u001b[0m\n",
      "\u001b[1;32mc:\\users\\igor\\appdata\\local\\programs\\python\\python36-32\\lib\\urllib\\request.py\u001b[0m in \u001b[0;36m_call_chain\u001b[1;34m(self, chain, kind, meth_name, *args)\u001b[0m\n\u001b[0;32m    502\u001b[0m         \u001b[1;32mfor\u001b[0m \u001b[0mhandler\u001b[0m \u001b[1;32min\u001b[0m \u001b[0mhandlers\u001b[0m\u001b[1;33m:\u001b[0m\u001b[1;33m\u001b[0m\u001b[0m\n\u001b[0;32m    503\u001b[0m             \u001b[0mfunc\u001b[0m \u001b[1;33m=\u001b[0m \u001b[0mgetattr\u001b[0m\u001b[1;33m(\u001b[0m\u001b[0mhandler\u001b[0m\u001b[1;33m,\u001b[0m \u001b[0mmeth_name\u001b[0m\u001b[1;33m)\u001b[0m\u001b[1;33m\u001b[0m\u001b[0m\n\u001b[1;32m--> 504\u001b[1;33m             \u001b[0mresult\u001b[0m \u001b[1;33m=\u001b[0m \u001b[0mfunc\u001b[0m\u001b[1;33m(\u001b[0m\u001b[1;33m*\u001b[0m\u001b[0margs\u001b[0m\u001b[1;33m)\u001b[0m\u001b[1;33m\u001b[0m\u001b[0m\n\u001b[0m\u001b[0;32m    505\u001b[0m             \u001b[1;32mif\u001b[0m \u001b[0mresult\u001b[0m \u001b[1;32mis\u001b[0m \u001b[1;32mnot\u001b[0m \u001b[1;32mNone\u001b[0m\u001b[1;33m:\u001b[0m\u001b[1;33m\u001b[0m\u001b[0m\n\u001b[0;32m    506\u001b[0m                 \u001b[1;32mreturn\u001b[0m \u001b[0mresult\u001b[0m\u001b[1;33m\u001b[0m\u001b[0m\n",
      "\u001b[1;32mc:\\users\\igor\\appdata\\local\\programs\\python\\python36-32\\lib\\urllib\\request.py\u001b[0m in \u001b[0;36mhttp_error_302\u001b[1;34m(self, req, fp, code, msg, headers)\u001b[0m\n\u001b[0;32m    754\u001b[0m         \u001b[0mfp\u001b[0m\u001b[1;33m.\u001b[0m\u001b[0mclose\u001b[0m\u001b[1;33m(\u001b[0m\u001b[1;33m)\u001b[0m\u001b[1;33m\u001b[0m\u001b[0m\n\u001b[0;32m    755\u001b[0m \u001b[1;33m\u001b[0m\u001b[0m\n\u001b[1;32m--> 756\u001b[1;33m         \u001b[1;32mreturn\u001b[0m \u001b[0mself\u001b[0m\u001b[1;33m.\u001b[0m\u001b[0mparent\u001b[0m\u001b[1;33m.\u001b[0m\u001b[0mopen\u001b[0m\u001b[1;33m(\u001b[0m\u001b[0mnew\u001b[0m\u001b[1;33m,\u001b[0m \u001b[0mtimeout\u001b[0m\u001b[1;33m=\u001b[0m\u001b[0mreq\u001b[0m\u001b[1;33m.\u001b[0m\u001b[0mtimeout\u001b[0m\u001b[1;33m)\u001b[0m\u001b[1;33m\u001b[0m\u001b[0m\n\u001b[0m\u001b[0;32m    757\u001b[0m \u001b[1;33m\u001b[0m\u001b[0m\n\u001b[0;32m    758\u001b[0m     \u001b[0mhttp_error_301\u001b[0m \u001b[1;33m=\u001b[0m \u001b[0mhttp_error_303\u001b[0m \u001b[1;33m=\u001b[0m \u001b[0mhttp_error_307\u001b[0m \u001b[1;33m=\u001b[0m \u001b[0mhttp_error_302\u001b[0m\u001b[1;33m\u001b[0m\u001b[0m\n",
      "\u001b[1;32mc:\\users\\igor\\appdata\\local\\programs\\python\\python36-32\\lib\\urllib\\request.py\u001b[0m in \u001b[0;36mopen\u001b[1;34m(self, fullurl, data, timeout)\u001b[0m\n\u001b[0;32m    530\u001b[0m         \u001b[1;32mfor\u001b[0m \u001b[0mprocessor\u001b[0m \u001b[1;32min\u001b[0m \u001b[0mself\u001b[0m\u001b[1;33m.\u001b[0m\u001b[0mprocess_response\u001b[0m\u001b[1;33m.\u001b[0m\u001b[0mget\u001b[0m\u001b[1;33m(\u001b[0m\u001b[0mprotocol\u001b[0m\u001b[1;33m,\u001b[0m \u001b[1;33m[\u001b[0m\u001b[1;33m]\u001b[0m\u001b[1;33m)\u001b[0m\u001b[1;33m:\u001b[0m\u001b[1;33m\u001b[0m\u001b[0m\n\u001b[0;32m    531\u001b[0m             \u001b[0mmeth\u001b[0m \u001b[1;33m=\u001b[0m \u001b[0mgetattr\u001b[0m\u001b[1;33m(\u001b[0m\u001b[0mprocessor\u001b[0m\u001b[1;33m,\u001b[0m \u001b[0mmeth_name\u001b[0m\u001b[1;33m)\u001b[0m\u001b[1;33m\u001b[0m\u001b[0m\n\u001b[1;32m--> 532\u001b[1;33m             \u001b[0mresponse\u001b[0m \u001b[1;33m=\u001b[0m \u001b[0mmeth\u001b[0m\u001b[1;33m(\u001b[0m\u001b[0mreq\u001b[0m\u001b[1;33m,\u001b[0m \u001b[0mresponse\u001b[0m\u001b[1;33m)\u001b[0m\u001b[1;33m\u001b[0m\u001b[0m\n\u001b[0m\u001b[0;32m    533\u001b[0m \u001b[1;33m\u001b[0m\u001b[0m\n\u001b[0;32m    534\u001b[0m         \u001b[1;32mreturn\u001b[0m \u001b[0mresponse\u001b[0m\u001b[1;33m\u001b[0m\u001b[0m\n",
      "\u001b[1;32mc:\\users\\igor\\appdata\\local\\programs\\python\\python36-32\\lib\\urllib\\request.py\u001b[0m in \u001b[0;36mhttp_response\u001b[1;34m(self, request, response)\u001b[0m\n\u001b[0;32m    640\u001b[0m         \u001b[1;32mif\u001b[0m \u001b[1;32mnot\u001b[0m \u001b[1;33m(\u001b[0m\u001b[1;36m200\u001b[0m \u001b[1;33m<=\u001b[0m \u001b[0mcode\u001b[0m \u001b[1;33m<\u001b[0m \u001b[1;36m300\u001b[0m\u001b[1;33m)\u001b[0m\u001b[1;33m:\u001b[0m\u001b[1;33m\u001b[0m\u001b[0m\n\u001b[0;32m    641\u001b[0m             response = self.parent.error(\n\u001b[1;32m--> 642\u001b[1;33m                 'http', request, response, code, msg, hdrs)\n\u001b[0m\u001b[0;32m    643\u001b[0m \u001b[1;33m\u001b[0m\u001b[0m\n\u001b[0;32m    644\u001b[0m         \u001b[1;32mreturn\u001b[0m \u001b[0mresponse\u001b[0m\u001b[1;33m\u001b[0m\u001b[0m\n",
      "\u001b[1;32mc:\\users\\igor\\appdata\\local\\programs\\python\\python36-32\\lib\\urllib\\request.py\u001b[0m in \u001b[0;36merror\u001b[1;34m(self, proto, *args)\u001b[0m\n\u001b[0;32m    568\u001b[0m         \u001b[1;32mif\u001b[0m \u001b[0mhttp_err\u001b[0m\u001b[1;33m:\u001b[0m\u001b[1;33m\u001b[0m\u001b[0m\n\u001b[0;32m    569\u001b[0m             \u001b[0margs\u001b[0m \u001b[1;33m=\u001b[0m \u001b[1;33m(\u001b[0m\u001b[0mdict\u001b[0m\u001b[1;33m,\u001b[0m \u001b[1;34m'default'\u001b[0m\u001b[1;33m,\u001b[0m \u001b[1;34m'http_error_default'\u001b[0m\u001b[1;33m)\u001b[0m \u001b[1;33m+\u001b[0m \u001b[0morig_args\u001b[0m\u001b[1;33m\u001b[0m\u001b[0m\n\u001b[1;32m--> 570\u001b[1;33m             \u001b[1;32mreturn\u001b[0m \u001b[0mself\u001b[0m\u001b[1;33m.\u001b[0m\u001b[0m_call_chain\u001b[0m\u001b[1;33m(\u001b[0m\u001b[1;33m*\u001b[0m\u001b[0margs\u001b[0m\u001b[1;33m)\u001b[0m\u001b[1;33m\u001b[0m\u001b[0m\n\u001b[0m\u001b[0;32m    571\u001b[0m \u001b[1;33m\u001b[0m\u001b[0m\n\u001b[0;32m    572\u001b[0m \u001b[1;31m# XXX probably also want an abstract factory that knows when it makes\u001b[0m\u001b[1;33m\u001b[0m\u001b[1;33m\u001b[0m\u001b[0m\n",
      "\u001b[1;32mc:\\users\\igor\\appdata\\local\\programs\\python\\python36-32\\lib\\urllib\\request.py\u001b[0m in \u001b[0;36m_call_chain\u001b[1;34m(self, chain, kind, meth_name, *args)\u001b[0m\n\u001b[0;32m    502\u001b[0m         \u001b[1;32mfor\u001b[0m \u001b[0mhandler\u001b[0m \u001b[1;32min\u001b[0m \u001b[0mhandlers\u001b[0m\u001b[1;33m:\u001b[0m\u001b[1;33m\u001b[0m\u001b[0m\n\u001b[0;32m    503\u001b[0m             \u001b[0mfunc\u001b[0m \u001b[1;33m=\u001b[0m \u001b[0mgetattr\u001b[0m\u001b[1;33m(\u001b[0m\u001b[0mhandler\u001b[0m\u001b[1;33m,\u001b[0m \u001b[0mmeth_name\u001b[0m\u001b[1;33m)\u001b[0m\u001b[1;33m\u001b[0m\u001b[0m\n\u001b[1;32m--> 504\u001b[1;33m             \u001b[0mresult\u001b[0m \u001b[1;33m=\u001b[0m \u001b[0mfunc\u001b[0m\u001b[1;33m(\u001b[0m\u001b[1;33m*\u001b[0m\u001b[0margs\u001b[0m\u001b[1;33m)\u001b[0m\u001b[1;33m\u001b[0m\u001b[0m\n\u001b[0m\u001b[0;32m    505\u001b[0m             \u001b[1;32mif\u001b[0m \u001b[0mresult\u001b[0m \u001b[1;32mis\u001b[0m \u001b[1;32mnot\u001b[0m \u001b[1;32mNone\u001b[0m\u001b[1;33m:\u001b[0m\u001b[1;33m\u001b[0m\u001b[0m\n\u001b[0;32m    506\u001b[0m                 \u001b[1;32mreturn\u001b[0m \u001b[0mresult\u001b[0m\u001b[1;33m\u001b[0m\u001b[0m\n",
      "\u001b[1;32mc:\\users\\igor\\appdata\\local\\programs\\python\\python36-32\\lib\\urllib\\request.py\u001b[0m in \u001b[0;36mhttp_error_default\u001b[1;34m(self, req, fp, code, msg, hdrs)\u001b[0m\n\u001b[0;32m    648\u001b[0m \u001b[1;32mclass\u001b[0m \u001b[0mHTTPDefaultErrorHandler\u001b[0m\u001b[1;33m(\u001b[0m\u001b[0mBaseHandler\u001b[0m\u001b[1;33m)\u001b[0m\u001b[1;33m:\u001b[0m\u001b[1;33m\u001b[0m\u001b[0m\n\u001b[0;32m    649\u001b[0m     \u001b[1;32mdef\u001b[0m \u001b[0mhttp_error_default\u001b[0m\u001b[1;33m(\u001b[0m\u001b[0mself\u001b[0m\u001b[1;33m,\u001b[0m \u001b[0mreq\u001b[0m\u001b[1;33m,\u001b[0m \u001b[0mfp\u001b[0m\u001b[1;33m,\u001b[0m \u001b[0mcode\u001b[0m\u001b[1;33m,\u001b[0m \u001b[0mmsg\u001b[0m\u001b[1;33m,\u001b[0m \u001b[0mhdrs\u001b[0m\u001b[1;33m)\u001b[0m\u001b[1;33m:\u001b[0m\u001b[1;33m\u001b[0m\u001b[0m\n\u001b[1;32m--> 650\u001b[1;33m         \u001b[1;32mraise\u001b[0m \u001b[0mHTTPError\u001b[0m\u001b[1;33m(\u001b[0m\u001b[0mreq\u001b[0m\u001b[1;33m.\u001b[0m\u001b[0mfull_url\u001b[0m\u001b[1;33m,\u001b[0m \u001b[0mcode\u001b[0m\u001b[1;33m,\u001b[0m \u001b[0mmsg\u001b[0m\u001b[1;33m,\u001b[0m \u001b[0mhdrs\u001b[0m\u001b[1;33m,\u001b[0m \u001b[0mfp\u001b[0m\u001b[1;33m)\u001b[0m\u001b[1;33m\u001b[0m\u001b[0m\n\u001b[0m\u001b[0;32m    651\u001b[0m \u001b[1;33m\u001b[0m\u001b[0m\n\u001b[0;32m    652\u001b[0m \u001b[1;32mclass\u001b[0m \u001b[0mHTTPRedirectHandler\u001b[0m\u001b[1;33m(\u001b[0m\u001b[0mBaseHandler\u001b[0m\u001b[1;33m)\u001b[0m\u001b[1;33m:\u001b[0m\u001b[1;33m\u001b[0m\u001b[0m\n",
      "\u001b[1;31mHTTPError\u001b[0m: HTTP Error 503: Service Unavailable"
     ]
    }
   ],
   "source": [
    "dataset = pd.read_csv('C:/Users/Igor/Desktop/train.csv', encoding='cp1252')\n",
    "translate = dataset['SentimentText'].values\n",
    "\n",
    "traduzido = []\n",
    "for i in dataset['SentimentText']:\n",
    "    blob = TextBlob(i)\n",
    "    traduzido.append(blob.translate(to = 'pt-br'))\n",
    "    print(blob.translate(to = 'pt-br'))"
   ]
  },
  {
   "cell_type": "code",
   "execution_count": 3,
   "metadata": {},
   "outputs": [
    {
     "data": {
      "text/plain": [
       "148"
      ]
     },
     "execution_count": 3,
     "metadata": {},
     "output_type": "execute_result"
    }
   ],
   "source": [
    "len(traduzido)"
   ]
  },
  {
   "cell_type": "code",
   "execution_count": 6,
   "metadata": {},
   "outputs": [
    {
     "data": {
      "text/plain": [
       "TextBlob(\"tão tris\")"
      ]
     },
     "execution_count": 6,
     "metadata": {},
     "output_type": "execute_result"
    }
   ],
   "source": [
    "traduzido[0][2:10]"
   ]
  },
  {
   "cell_type": "code",
   "execution_count": null,
   "metadata": {},
   "outputs": [],
   "source": [
    "for i in"
   ]
  }
 ],
 "metadata": {
  "kernelspec": {
   "display_name": "Python 3",
   "language": "python",
   "name": "python3"
  },
  "language_info": {
   "codemirror_mode": {
    "name": "ipython",
    "version": 3
   },
   "file_extension": ".py",
   "mimetype": "text/x-python",
   "name": "python",
   "nbconvert_exporter": "python",
   "pygments_lexer": "ipython3",
   "version": "3.6.5"
  }
 },
 "nbformat": 4,
 "nbformat_minor": 2
}

{
 "cells": [
  {
   "cell_type": "code",
   "execution_count": 1,
   "metadata": {},
   "outputs": [],
   "source": [
    "import numpy as np\n",
    "import pandas as pd\n",
    "from textblob import TextBlob"
   ]
  },
  {
   "cell_type": "code",
   "execution_count": 2,
   "metadata": {},
   "outputs": [],
   "source": [
    "dataset = pd.read_csv('C:/Users/Igor/Desktop/train.csv', encoding='cp1252')\n",
    "#translate = dataset['SentimentText'].values\n",
    "\n",
    "#traduzido = []\n",
    "#for i in dataset['SentimentText']:\n",
    "#    blob = TextBlob(i)\n",
    "#   traduzido.append(blob.translate(to = 'pt-br'))\n",
    "#   print(blob.translate(to = 'pt-br'))"
   ]
  },
  {
   "cell_type": "code",
   "execution_count": null,
   "metadata": {
    "scrolled": true
   },
   "outputs": [
    {
     "name": "stdout",
     "output_type": "stream",
     "text": [
      "é tão triste para o meu amigo APL .............\n",
      "Eu senti falta do trailer de New Moon ...\n",
      "omg sua já 7:30: O\n",
      ".. Omgaga Eu estou sooo im gunna CRY. Eu estive neste dentista desde 11 .. Eu estava suposto 2 apenas obter uma coroa colocar (30mins) ...\n",
      "Eu acho que mi bf está me traindo !!! T_T\n",
      "ou eu apenas me preocupo demais?\n",
      "Juuuuuuuuuuuuuuuuussssst Chillin !!\n",
      "Sunny Again Work Amanhã: - | TV hoje à noite\n",
      "Entregou meu uniforme hoje. Já sinto sua falta\n",
      "hmmmm .... eu quero saber como ela meu número @ -)\n",
      "Eu devo pensar em positivo ..\n",
      "obrigado a todos os inimigos na minha cara o dia todo! 112-102\n",
      "este fim de semana tem sugado até agora\n",
      "jb não está mais mostrando na Austrália!\n",
      "ok, é isso que você ganha.\n",
      "&lt;-------- É assim que eu me sinto agora ...\n",
      "awhhe man .... estou completamente inútil agora. Engraçado, tudo que posso fazer é twitter. http://myloc.me/27HX\n",
      "Me sentindo estranhamente bem. Agora eu vou ouvir algum Semisonic para celebrar\n",
      "Enorme rolo de trovão agora ... tão assustador !!!!\n",
      "Acabei de cortar minha barba. Só está crescendo há mais de um ano. Eu vou começar de novo. @shaunamanu está feliz nesse meio tempo.\n",
      "Muito triste com o Irã.\n",
      "wompppp wompp\n",
      "Você é o único que pode ver isso porque ninguém mais está me seguindo, isso é para você porque você é muito legal\n",
      "&lt;--- Nível triste é 3. Eu estava escrevendo um tweet enorme no Myspace e meu comp desligou. Agora tudo está perdido * em posição fetal *\n",
      "... Dirigiu-se ao Hospitol: teve que sair do Golf Tourny em 3º lugar !!!!!!!!!!! Eu acho que eu Re-Ripped algo !!! Sim, isso !!\n",
      "BoRinG): o que há de errado com ele? Por favor, diga........ :-/\n",
      "não pode ser incomodado. Eu gostaria de poder passar o resto da minha vida apenas sentado aqui e indo para shows. a sério.\n",
      "Feeeling como merda agora. Eu realmente quero dormir, mas não tenho 3 horas de dança e uma tarefa de arte para terminar.\n",
      "Adeus exames OLÁ ÁLCOOL NOITE\n",
      "Não sabia que era tão fundo. Jesus dá-me um aviso pelo menos!\n",
      "Eu odeio quando qualquer atleta aparece rasgar uma ACL ao vivo na televisão.\n",
      "Sinto falta de vocês também, eu acho que eu estou vestindo jeans skinny, uma blusa bonita e saltos não sei bem o que fazes hoje\n",
      "-Conheça sua carne http://bit.ly/15SSCI\n",
      "Meu cavalinho está se movendo no sábado de manhã.\n",
      "Não Sat fora... Preciso trabalhar 6 dias por semana\n",
      "Realmente não gosto de fazer o meu quarto É tão chato doente de fazer o meu guarda-roupa Eu não posso ir até o meu andar em um Yay\n",
      "SOX! Floyd foi ótimo, mas os apaziguadores precisam de uma bronca!\n",
      "vezes por como um milhão\n",
      "fazendo upload de fotos no friendster\n",
      "Que tipo de spaz faz o download de um vírus? meu irmão é quem: \\ MSN agora está fodido para sempre: &#39;(\n",
      "&amp;&amp; Fightiin Wiit Os Babes ...\n",
      "(: !!!!!! - então eu escrevi algo na semana passada. e recebi uma ligação de alguém no escritório de Nova York ... http://tumblr.com/xcn21w6o7\n",
      "Já disse o suficiente.\n",
      "... Eu preciso mesmo dizer isso? Eu faço? Bem, aqui vou eu mesmo: CHRIS CORNELL EM CHICAGO! ... ESTA NOITE!\n",
      "... aula de saúde (que piada!)\n",
      "@ginaaa &lt;3 VÁ À SHOW À NOITE\n",
      "@Spiral_galaxy @YMPtweet isso realmente me deixa triste quando eu olho para a realidade muçulmana agora\n",
      "- All Time Low será a minha motivação para o resto da semana.\n",
      "eo entretenimento acabou, alguém reclamou corretamente .. @rupturerapture experimental você diz? ele deveria experimentar uma melodia\n",
      "mais um ano de Lakers .. Isso não é mágico nem divertido ...\n",
      "dia mais mau eveer.\n",
      "banheiro é limpo ..... agora para tarefas mais agradáveis ​​......\n",
      "boom boom pow\n",
      "mas estou orgulhoso.\n",
      "Parabéns ao helio embora\n",
      "David deve ser hospitalizado por cinco dias no final de julho (amígdalas palatinas). Eu provavelmente nunca vou ver Katie em concerto.\n",
      "amigos estão me deixando por causa desse amor estúpido http://bit.ly/ZoxZC\n",
      "vá dar um abraço na mamãe agora. http://bit.ly/azFwv\n",
      "Indo ver Harry Sunday Happiness\n",
      "Mão quilting é então ...\n",
      "odeio ... leysh t9ar5 ... = (((((((..\n",
      "Eu sempre consigo o que quero.\n",
      "Eu me inclino para trás\n",
      "Eu saio do trabalho sooooon! Eu sinto falta do cody booo. não o vi em todo o sempre!\n",
      "Eu odeio alergias. Devo cortar meu cabelo amanhã? Estou fazendo uma enquete pública ...\n",
      "- Eu amo tanto vocês que dói. http://tumblr.com/xkh1z19us\n",
      "Eu sinto falta do Earl\n",
      "Saudades de New Jersey\n",
      "Eu perdi a primeira hora de SYTYCD ontem à noite, e não consigo encontrá-lo online!\n",
      "Eu preciso de um U2 corrigir AGORA!\n",
      "Eu nunca pensei que me tornaria segunda escolha ...\n",
      "Eu acho que posso ser muito amigável ... lol ... o bem ...\n",
      "Eu acho que Manuel (minha planta de manjericão) só tem dias para viver\n",
      "Eu quero estar em casa @ igreja ... eu me pergunto o que eles estão fazendo?\n",
      "eu quero fazer minha própria pizza\n",
      "Eu quero um disco rígido de 120GB, ou uma TV de 37 polegadas ou uma nova guitarra. alguém sentindo generoso? = px\n",
      "Eu quero um abraço\n",
      "Eu quero Miley turnê Austrália\n",
      "Eu queria dormir esta manhã... mas um miúdo com um picolé põe a cabeça para mim. Quem me dera que eu pudesse voar como os esquilos\n",
      "Eu era muito lento para obter $1 ingressos\n",
      "\n",
      "Quem dera eu pudesse ir para T4 On The Beach :'(seria ótimo ver @Shontelle_Layne &amp;amp; @DanMerriweather\n",
      "Eu ficaria muito mais feliz se as paredes do meu quarto foram pintadas de brancas,\n",
      "idk wat 2 fazer em quem pode confiar me im pesaroso 4 toda da dor que causaram nebody ima tomar dis tempo limite 2 endireitar-me eu luv yall\n",
      "Eu estou achando a inclinação de interceptação. e bater com a cabeça contra a parede... Cabeças de cérebro de matemática vem me salvar\n",
      "Eu estou indo para cama agora ...\n",
      "estou doente &#39;tosse tosse&#39;\n",
      "no táxi para o aeroporto! indo para casa .... &lt;christy&gt;\n",
      "No caso de eu sentir emo no acampamento (sentindo um pouquinho disso) ... estou trazendo o Relatório Mundial da Human Rights Watch 2009 ... espere que funcione\n",
      "Jin tem um twitter.\n",
      "o jonas day está quase no fim ...\n",
      "Jus Got Hom Fr. TDa Funeral ... Estou tão triste! Eu chorei tanto tempo! Muito amor vovô! &lt;3 Eu nunca consegui dizer meu último &quot;adeus&quot; a ele.\n",
      "Só vou sorrir ... Porque é o que é ... e eu não tenho certeza do que mais eles poderiam querer ..\n",
      "Cheguei em casa, e pude ver minha amiga Zahra, que não vejo desde que nos formamos !!! Isso deixa-me muito feliz.\n",
      "- A noite mais longa de sempre .. ugh! http://tumblr.com/xwp1yxhi6\n",
      "mi momacita não me deixa ir ao jogo de bball do meu bf !!! grrr !!!\n",
      "Mamãe diz que eu tenho que pegar um novo telefone IMEDIATAMENTE .... para a T-Mobile. ela pagando ....\n",
      "Meu carro novo foi roubado ... pela minha mãe que queria ir posar na igreja.\n",
      "não sair com as meninas 2day. 2moro, espero que sim ......\n",
      "Não há horários de filmes para domingo! Os ratos terão que planejar amanhã. Eu acho que isso significa que eu tenho que trabalhar nessas duas apresentações que estou fazendo!\n",
      "no pavel esta noite &lt;Tigersfan&gt;\n"
     ]
    }
   ],
   "source": [
    "from translate import Translator\n",
    "\n",
    "sentimento = dataset['SentimentText']\n",
    "type(sentimento)\n",
    "\n",
    "intermediador = [] \n",
    "for i in sentimento:\n",
    "    intermediador.append(i)\n",
    "\n",
    "SentimentoTexto = []    \n",
    "n = len(SentimentoTexto)    \n",
    "for i in range(n, len(intermediador)):\n",
    "    translator = Translator(to_lang = \"Portuguese\")\n",
    "    translation = translator.translate(intermediador[i])   \n",
    "    SentimentoTexto.append(translator.translate(intermediador[i]))\n",
    "    print(translation)"
   ]
  },
  {
   "cell_type": "code",
   "execution_count": 1,
   "metadata": {},
   "outputs": [
    {
     "ename": "NameError",
     "evalue": "name 'SentimentoTexto' is not defined",
     "output_type": "error",
     "traceback": [
      "\u001b[1;31m---------------------------------------------------------------------------\u001b[0m",
      "\u001b[1;31mNameError\u001b[0m                                 Traceback (most recent call last)",
      "\u001b[1;32m<ipython-input-1-b027863059e2>\u001b[0m in \u001b[0;36m<module>\u001b[1;34m()\u001b[0m\n\u001b[1;32m----> 1\u001b[1;33m \u001b[0mlen\u001b[0m\u001b[1;33m(\u001b[0m\u001b[0mSentimentoTexto\u001b[0m\u001b[1;33m)\u001b[0m\u001b[1;33m\u001b[0m\u001b[0m\n\u001b[0m",
      "\u001b[1;31mNameError\u001b[0m: name 'SentimentoTexto' is not defined"
     ]
    }
   ],
   "source": [
    "len(SentimentoTexto)"
   ]
  },
  {
   "cell_type": "code",
   "execution_count": null,
   "metadata": {},
   "outputs": [],
   "source": [
    "#del(SentimentoTexto[0:66])"
   ]
  }
 ],
 "metadata": {
  "kernelspec": {
   "display_name": "Python 3",
   "language": "python",
   "name": "python3"
  },
  "language_info": {
   "codemirror_mode": {
    "name": "ipython",
    "version": 3
   },
   "file_extension": ".py",
   "mimetype": "text/x-python",
   "name": "python",
   "nbconvert_exporter": "python",
   "pygments_lexer": "ipython3",
   "version": "3.6.5"
  }
 },
 "nbformat": 4,
 "nbformat_minor": 2
}
